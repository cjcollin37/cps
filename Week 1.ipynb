{
 "cells": [
  {
   "cell_type": "markdown",
   "metadata": {},
   "source": [
    "# Blog - Week 1 (06/22/20)\n",
    "\n",
    "#### Tuesday \n",
    "- Radvel successfully installed.\n",
    "\n",
    "#### Wednesday \n",
    "- Met with Lee to discuss Radvel documents and download Mayor & Queloz paper.\n",
    "- Next steps: Read Mayor & Queloz and complete Radvel tutorial then check in with Lee.\n",
    "- Short-term objective: Understand the part of the radvel code that will enable the generation of the Keplerian Zoo chart.\n",
    "- Notes:\n",
    "    - Radvel fits RV data - often from multiple instruments - to Keplerian orbits.\n",
    "    - Lee's thesis is largely focused on occurrence rates for various planet types.\n",
    "- Big picture: Collecting planetary census data will ultimately provide evidence for various hypotheses in planetary formation theories to help understand which models are accurate.\n",
    "\n",
    "#### Friday/Saturday\n",
    "- Ran radvel tutorial for HD 164922\n",
    "    - Cell 2: Function for binning data. Data is read into a pandas dataframe with time, mean rv, error in rv, and telescope (data from three telescopes).\n",
    "        - Note to self: the query function [e.g. data.query(\"tel == 'k'\")] queries the df and pulls out only the rows for which are true for your argument. Super handy!\n",
    "        - What is jd_date and how is it different than time? Is this just a logistical requirement to convert the time into an integer for later calculations? What is mnvel? Update: jd_date is probsplitably Julian date.\n",
    "    - Cell 3: Initializes parameters. In this case there are two sets of parameters, one for each of two different planets.\n",
    "        - What are the parameters \"tc, secosw, sesinw, logk, dvdt and curv?\" If dvdt is change in radial velocity over time, why is it set to zero? Or is it angular velocity?\n",
    "    - Cell 4: Initializes the model. It then creates likelihood functions for all of the specified parameters.\n",
    "        - How exactly do the likelihood functions work and how are they built? Which parameters are held constant, which are varied, and what is the \"observation\" for which we are calculating the probability? Is this described by the \"Vary\" column in the output of Cell 5?\n",
    "        - What exactly is 'jitter' and how is it quantified? \n",
    "    - Cell 5: Adds prior of eccentricity < 1 and computes the best fit.\n",
    "        - What do the initial and final loglikelihood values mean?\n",
    "    - Cell 6: Performs an MCMC walk on the dataset.\n",
    "        - This message is in the output: \"MCMC: WARNING: chains did not pass convergence tests. They are likely not well-mixed.\" Is this a problem?\n",
    "    - Cell 7: Shows summary of MCMC posterior distribution in tertiles?\n",
    "        - Note to self: check out the split function here [labels = 'per1 tc1 e1 k1 per2 tc2 e2 k2 '.split()] -> handy!\n",
    "    - Cell 8: Corner plots shows joint probability distributions for parameters.\n",
    "    - Cell 9: Shows RV plots and residuals.\n",
    "        \n",
    "\n",
    "- Read Mayor & Queloz 1995\n",
    "    - See Week 2 for questions and notes"
   ]
  },
  {
   "cell_type": "code",
   "execution_count": null,
   "metadata": {},
   "outputs": [],
   "source": []
  }
 ],
 "metadata": {
  "kernelspec": {
   "display_name": "Python 3",
   "language": "python",
   "name": "python3"
  },
  "language_info": {
   "codemirror_mode": {
    "name": "ipython",
    "version": 3
   },
   "file_extension": ".py",
   "mimetype": "text/x-python",
   "name": "python",
   "nbconvert_exporter": "python",
   "pygments_lexer": "ipython3",
   "version": "3.7.3"
  }
 },
 "nbformat": 4,
 "nbformat_minor": 2
}
