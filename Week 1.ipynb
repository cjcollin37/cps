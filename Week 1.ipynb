{
 "cells": [
  {
   "cell_type": "markdown",
   "metadata": {},
   "source": [
    "# Blog - Week 1 (06/22/20)\n",
    "\n",
    "#### Tuesday \n",
    "- Radvel successfully installed.\n",
    "\n",
    "#### Wednesday \n",
    "- Met with Lee to discuss Radvel documents and download Mayor & Queloz paper.\n",
    "- Next steps: Read Mayor & Queloz and complete Radvel tutorial then check in with Lee.\n",
    "- Short-term objective: Understand the part of the radvel code that will enable the generation of the Keplerian Zoo chart.\n",
    "- Notes:\n",
    "    - Radvel fits RV data - often from multiple instruments - to Keplerian orbits.\n",
    "    - Lee's thesis is largely focused on occurrence rates for various planet types.\n",
    "- Big picture: Collecting planetary census data will ultimately provide evidence for various hypotheses in planetary formation theories to help understand which models are accurate."
   ]
  },
  {
   "cell_type": "code",
   "execution_count": null,
   "metadata": {},
   "outputs": [],
   "source": []
  }
 ],
 "metadata": {
  "kernelspec": {
   "display_name": "Python 3",
   "language": "python",
   "name": "python3"
  },
  "language_info": {
   "codemirror_mode": {
    "name": "ipython",
    "version": 3
   },
   "file_extension": ".py",
   "mimetype": "text/x-python",
   "name": "python",
   "nbconvert_exporter": "python",
   "pygments_lexer": "ipython3",
   "version": "3.7.3"
  }
 },
 "nbformat": 4,
 "nbformat_minor": 2
}
