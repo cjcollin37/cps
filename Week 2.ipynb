{
 "cells": [
  {
   "attachments": {},
   "cell_type": "markdown",
   "metadata": {},
   "source": [
    "# Blog - Week 2 (06/29/20)\n",
    "\n",
    "### Meeting with Lee\n",
    "\n",
    "#### Mayor & Queloz 1995 discussion and notes:\n",
    "\n",
    "\n",
    "- Figure 1 shows radial velocity vs. relative intensity. What is relative intensity and how does the width of this profile relate to stellar rotation rate? Is this “intensity” radiative flux or the intensity of the shift?\n",
    "    - This is essentially a zoom on one part (one line) of the observed spectrum (it’s actually the average of 5000 lines which lowers the uncertainty). Doppler shifts in 5000 absorption lines were measured. The intensity is in fact radiation intensity. Cross-correlation uses a Gaussian profile as a sort of reference and is systematically compared to the absorption line. Thus, the width of the function in figure 1 is related to the width of the absorption line; and the width of the absorption line is related to the rotational velocity of the star. The faster the rotation, the greater the blue shift of the approaching half and the greater the red shift of the recessing half.\n",
    "    - Side note: thermal profile of star also affects the width of absorption lines since some molecules will be moving toward the observer, and others away.\n",
    "    - Unresolved question: How does one actually obtain or read vsin(i) from a plot like Figure 1?\n",
    "- I think gamma velocity is the “absolute velocity” of the whole system but I’m not sure. What is “gamma velocity” here?\n",
    "    - It is like radial velocity but reflects the motion of the whole system rather than the relative motion of the star. Figure 3a shows the zero point obtained by observing 87 different stars to show that it’s relatively unchanging around zero. This corrects for the relative motion of the Earth in orbit when making these measurements. Any instrument will be offset from zero due to Earth’s motion and this affects the Doppler shift. Fig. 3b shows that the “absolute” velocity of the 51 Peg system is in the tens of km and also changing. This indicates the presence of a long period companion. The x-axis range is about a year. This is particularly important when using multiple instruments. You must find zero points for all instruments (as in the first example we looked at).\n",
    "    - JDB – just a calendar day converted into numbers. Photon weighted mean of observation.\n",
    "- Why is vr equal to vsin(i) and not vcos(i)?\n",
    "    - I’ve been looking at the wrong angle (90 – i)!\n",
    "- How is the uncertainty of the mean of the 3 vsin(i) determinations less than that of any of the individual determinations?\n",
    "    - Uncertainty scales with the inverse of the square root of the number of data points (by the CLT?). This is at the core of RV measurements (and many other techniques) and it’s why 5000 absorption lines were used here.\n",
    "- vsin(i) = Vsin(i)\n",
    "     - vsin(i) comes from width of figure 1 (cross correlation function described above). V is rotation velocity (linear velocity at the equator) and is equal to the circumference divided by the rotation period (2piR/P). This is independently calculated by determining rotational period from activity and R from...?\n",
    "     - Unresolved question: How is the radius of the star determined? It must be also come from the width of the cross-correlation function in figure 1 I think.\n",
    "     - Unresolved question: This equation implies that vr = Vrot. Is radial velocity always equal to rotational velocity? Is this a coincidence?\n",
    "- S-values\n",
    "    - The Mount Wilson Observatory began a survey of over 100 stars (class F-M) in 1966 to measure calcium absorption lines H and K (396.8 nm and 393.3 nm) in order to characterize magnetic variability. This work established a relation between magnetic variability and fundamental star properties. Magnetic activity enhances calcium emission (among other types) in the core of the emission lines that occurs in the chromosphere. The S-values is a way to quantify the calcium emission lines and thus serves as a proxy for magnetic activity. The S-value gives information about rotation period. \n",
    "- Other unresolved questions:\n",
    "    - The authors state that greater chromospheric activity would be expected if the star had a shorter rotation period (4.2 days). However, I read (MWO paper 2016) that activity decreases with rotation rate. So why do they claim this?\n",
    "    - In the “Upper limit for companion mass” section, they assume the rotational axis is ‘aligned’ with the orbital plane. This sounds to me as if the they’re parallel. Do they mean that the axis and plane are perpendicular?\n",
    "- Summary\n",
    "    - First planet discovered around a Sun-like star. Doppler precision of 13 m/s (ELODIE spectrograph).\n",
    "    - 51 Peg is an old (10 Gyr), stable G-type with low activity.\n",
    "    - M = 0.5 – 1.2 MJ\n",
    "    - R = 0.05 AU\n",
    "    - Stellar T = 30 days\n",
    "    - Vrot = 2.2 +/- 0.8 km/s\n",
    "    - vsin(i) = 2.2 +/- 1 km/s\n",
    "    - Lower limit sin(i) = 0.4\n",
    "    - T > 1300 K; possibly a stripped brown dwarf. A Jupiter size planet at 0.05 AU is not consistent with planetary formation models, which suggest such planets form with minimum semi-major axis of 5 AU and orbital period of 10 years. It is possible that it was formed further out and migrated inwards via orbital decay caused by friction and/or tidal dissipation. This is thought to occur on timescales shorter than the age of the system. Evolution from a brown dwarf in binary system with close separation is also plausible.\n",
    "    - I suppose this was the beginning of the “hot Jupiter problem.”\n"
   ]
  },
  {
   "cell_type": "code",
   "execution_count": null,
   "metadata": {},
   "outputs": [],
   "source": []
  }
 ],
 "metadata": {
  "kernelspec": {
   "display_name": "Python 3",
   "language": "python",
   "name": "python3"
  },
  "language_info": {
   "codemirror_mode": {
    "name": "ipython",
    "version": 3
   },
   "file_extension": ".py",
   "mimetype": "text/x-python",
   "name": "python",
   "nbconvert_exporter": "python",
   "pygments_lexer": "ipython3",
   "version": "3.7.3"
  }
 },
 "nbformat": 4,
 "nbformat_minor": 2
}
