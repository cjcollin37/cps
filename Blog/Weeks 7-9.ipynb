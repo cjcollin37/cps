{
 "cells": [
  {
   "attachments": {},
   "cell_type": "markdown",
   "metadata": {},
   "source": [
    "# Weeks 7 - 9 (08/03/20 - 08/19/20)\n",
    "\n",
    "- Set up cadence account\n",
    "- Presented progress at group meeting\n",
    "- Ran threshold experiment code on cadence and collected preliminary data\n",
    "- Zoom call with Juliana\n",
    "\n",
    "\n",
    "- Meeting with Lee 08/04/20:\n",
    "    - Default env is “base” on cadence. Can switch to different environments for accessing difference versions for different software.\n",
    "    - Doesn’t matter which directory you’re in when you install with pip. It takes care of putting things in the right places.\n",
    "    - In ssh –XY, the “XY” allows cadence to open stuff on your comp. in windows.\n",
    "    - emacs to manage files. To open file: “emacs file.py &” That will open a file in XQuartz.\n",
    "    - To create file, same command. “emacs file.py”\n",
    "    - To execute code, type “python file.py” in ssh bash.\n",
    "    - shift-colon-q if you see welcome screen for emacs.\n",
    "    - Put your code (py file) in any directory (just use scr/collinc). Need path to datafile. \n",
    "    - vnc to run programs while not open. confluence link on slack+instructions. Use if run will be long. “5902” excpt your number instead of 2. Login ssh to cadence, enter command vncserver etc., get number, go to link, then operate as usual.\n",
    "    - After you get rvsearch results in folders. thresholds_bics_faps.csv -> open, plot BIC as fn. of number of data points. Want to look at last number in thresholds (“non-detection”). last column of table in csv.\n",
    "    - Why are we doing this exp?\n",
    "        - Looking at old datasets with solid amt of data. Want to place limits on non-detectability. broad surveys and follow up obs. (heat map of probability of detection and msini. can inject data into set and see if it’s detected. Contour will depend on dataset that you inject planets into, good reason to do our exp.\n",
    "        - TESS follow up on RVs. TKS led by CPS. Measure mass for as many as possible. Want to make completeness contour plots for TESS. Our work will validate those plots.\n",
    "        - Time is money, esp with Keck. Need to prioritize many targets and backups for a given observation period. Imagine you know the threshold is around 20 and you have two options – star w/ 5 and star w/ 20, you’d choose star with 5. \n",
    "        - Final output is plot of number of obs vs BIC. What does BIC do after some falloff and when does it happen?\n",
    "\n",
    "\n",
    "- Meeting with Lee and Andrew 08/18/20:"
   ]
  },
  {
   "cell_type": "code",
   "execution_count": null,
   "metadata": {},
   "outputs": [],
   "source": []
  }
 ],
 "metadata": {
  "kernelspec": {
   "display_name": "Python 3",
   "language": "python",
   "name": "python3"
  },
  "language_info": {
   "codemirror_mode": {
    "name": "ipython",
    "version": 3
   },
   "file_extension": ".py",
   "mimetype": "text/x-python",
   "name": "python",
   "nbconvert_exporter": "python",
   "pygments_lexer": "ipython3",
   "version": "3.7.3"
  }
 },
 "nbformat": 4,
 "nbformat_minor": 2
}
