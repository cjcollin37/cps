{
 "cells": [
  {
   "cell_type": "markdown",
   "metadata": {},
   "source": [
    "# Weeks 6-7 (07/20/20 - 08/03/20)\n",
    "\n",
    "- Attended Sagan Exoplanet Summer Virtual Workshop on extreme precision radial velocity methods (EPRV)\n",
    "    - Studied many pre-recorded videos and 'attended' live talks, Q&A sessions, panel discussions, and hands-on sessions.\n",
    "    - Topics of talks included:\n",
    "        - History and importance of RVs in the greater context of exoplanet discovery and characterization\n",
    "        - Fundamentals of RV measurements, limitations to precision, and modeling including mathematical methods for inferring minimum masses and statistical significance\n",
    "        - Funamentals of instrumentation\n",
    "        - Fundamentals of Gaussian processes\n",
    "        - Physics of stellar variability and manifestations of variability in RV data\n",
    "        - Strategies for mitigating stellar variability to achieve higher precision and reliable signals\n",
    "        - Hi-res spectroscopy of atmospheres, transit candidates, writing a transit exoplanet spectroscopy grant proposal, and habitability\n",
    "    - Hands-on sessions involved tutorials for Data & Analysis Center for Exoplanets (DACE) created at the University of Geneva. The tool hosts a suite of tools for analyzing exoplanet data, including a platform for calculating periodograms and Keplerians for RV time series data. I completed a planet hunting challenge for 5 different known systems (not revealed to participants) using DACE.\n",
    "    \n",
    "\n",
    "- Completed Hogg 'Fitting a Model to Data' exercises\n",
    "- Completed Hogg 'Using MCMC' exercises to write a Python algorithm for a Metropolis Hastings MCMC sampler\n",
    "- Conducted preliminary tests for investigating the analytical limitations of RV Search\n",
    "    - HD 128311 system was used from the RV Search tutorial. Single data points were removed at random from the raw data and BIC was calculated. I predict little change statistical signficance with a sudden dropoff within 10 data points.\n",
    "- The code for the threshold test was refined for greater efficiency and an additional code was added to halve the data for each run - https://github.com/cjcollin37/cps/blob/master/Threshold%20Experiment%20v2.ipynb"
   ]
  },
  {
   "cell_type": "code",
   "execution_count": null,
   "metadata": {},
   "outputs": [],
   "source": []
  }
 ],
 "metadata": {
  "kernelspec": {
   "display_name": "Python 3",
   "language": "python",
   "name": "python3"
  },
  "language_info": {
   "codemirror_mode": {
    "name": "ipython",
    "version": 3
   },
   "file_extension": ".py",
   "mimetype": "text/x-python",
   "name": "python",
   "nbconvert_exporter": "python",
   "pygments_lexer": "ipython3",
   "version": "3.7.3"
  }
 },
 "nbformat": 4,
 "nbformat_minor": 2
}
