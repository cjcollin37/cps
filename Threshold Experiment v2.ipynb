{
 "cells": [
  {
   "cell_type": "code",
   "execution_count": null,
   "metadata": {},
   "outputs": [],
   "source": [
    "import os\n",
    "\n",
    "import rvsearch\n",
    "from rvsearch import search, utils\n",
    "import pandas as pd\n",
    "import numpy as np\n",
    "from numpy import random"
   ]
  },
  {
   "cell_type": "code",
   "execution_count": null,
   "metadata": {},
   "outputs": [],
   "source": [
    "data = utils.read_from_csv(os.path.join(rvsearch.DATADIR, 'HD128311.csv'), binsize=0.5)"
   ]
  },
  {
   "cell_type": "code",
   "execution_count": null,
   "metadata": {},
   "outputs": [],
   "source": [
    "data.head()"
   ]
  },
  {
   "cell_type": "code",
   "execution_count": null,
   "metadata": {},
   "outputs": [],
   "source": [
    "for i in range(len(data)//2):\n",
    "    drop_point = np.random.randint(len(data))\n",
    "    data.drop([drop_point], inplace = True)\n",
    "    data.reset_index(drop = True, inplace = True)\n",
    "data"
   ]
  },
  {
   "cell_type": "code",
   "execution_count": null,
   "metadata": {},
   "outputs": [],
   "source": [
    "# Iteratively removes one data point for each run\n",
    "while len(data) > 0:\n",
    "    searcher = search.Search(data, starname='128311-{}'.format(len(data)), min_per=3,\n",
    "                         workers=8, mcmc=False, verbose=True)\n",
    "    searcher.run_search()\n",
    "    drop_points = np.random.randint(0, len(data), len(data)/2)\n",
    "    data.drop([drop_points], inplace = True)\n",
    "    data.reset_index(drop = True, inplace = True)"
   ]
  },
  {
   "cell_type": "code",
   "execution_count": null,
   "metadata": {},
   "outputs": [],
   "source": [
    "# Exponential decay\n",
    "while len(data) > 0:\n",
    "    searcher = search.Search(data, starname='128311-{}'.format(len(data)), min_per=3,\n",
    "                         workers=8, mcmc=False, verbose=True)\n",
    "    searcher.run_search()\n",
    "    for i in range(len(data)//2):\n",
    "        drop_point = np.random.randint(len(data))\n",
    "        data.drop([drop_point], inplace = True)\n",
    "        data.reset_index(drop = True, inplace = True)"
   ]
  },
  {
   "cell_type": "code",
   "execution_count": null,
   "metadata": {},
   "outputs": [],
   "source": []
  }
 ],
 "metadata": {
  "kernelspec": {
   "display_name": "Python 3",
   "language": "python",
   "name": "python3"
  },
  "language_info": {
   "codemirror_mode": {
    "name": "ipython",
    "version": 3
   },
   "file_extension": ".py",
   "mimetype": "text/x-python",
   "name": "python",
   "nbconvert_exporter": "python",
   "pygments_lexer": "ipython3",
   "version": "3.7.3"
  }
 },
 "nbformat": 4,
 "nbformat_minor": 2
}
