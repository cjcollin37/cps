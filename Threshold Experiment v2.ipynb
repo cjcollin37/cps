{
 "cells": [
  {
   "cell_type": "code",
   "execution_count": 1,
   "metadata": {},
   "outputs": [],
   "source": [
    "import os\n",
    "\n",
    "import rvsearch\n",
    "from rvsearch import search, utils\n",
    "import pandas as pd\n",
    "import numpy as np\n",
    "from numpy import random"
   ]
  },
  {
   "cell_type": "code",
   "execution_count": 2,
   "metadata": {},
   "outputs": [],
   "source": [
    "data = utils.read_from_csv(os.path.join(rvsearch.DATADIR, 'HD128311.csv'), binsize=0.5)"
   ]
  },
  {
   "cell_type": "code",
   "execution_count": 3,
   "metadata": {},
   "outputs": [
    {
     "data": {
      "text/html": [
       "<div>\n",
       "<style scoped>\n",
       "    .dataframe tbody tr th:only-of-type {\n",
       "        vertical-align: middle;\n",
       "    }\n",
       "\n",
       "    .dataframe tbody tr th {\n",
       "        vertical-align: top;\n",
       "    }\n",
       "\n",
       "    .dataframe thead th {\n",
       "        text-align: right;\n",
       "    }\n",
       "</style>\n",
       "<table border=\"1\" class=\"dataframe\">\n",
       "  <thead>\n",
       "    <tr style=\"text-align: right;\">\n",
       "      <th></th>\n",
       "      <th>jd</th>\n",
       "      <th>mnvel</th>\n",
       "      <th>errvel</th>\n",
       "      <th>tel</th>\n",
       "    </tr>\n",
       "  </thead>\n",
       "  <tbody>\n",
       "    <tr>\n",
       "      <th>0</th>\n",
       "      <td>2.453239e+06</td>\n",
       "      <td>113.349126</td>\n",
       "      <td>0.935919</td>\n",
       "      <td>b'j'</td>\n",
       "    </tr>\n",
       "    <tr>\n",
       "      <th>1</th>\n",
       "      <td>2.453240e+06</td>\n",
       "      <td>106.006788</td>\n",
       "      <td>0.976077</td>\n",
       "      <td>b'j'</td>\n",
       "    </tr>\n",
       "    <tr>\n",
       "      <th>2</th>\n",
       "      <td>2.453241e+06</td>\n",
       "      <td>113.020956</td>\n",
       "      <td>0.955703</td>\n",
       "      <td>b'j'</td>\n",
       "    </tr>\n",
       "    <tr>\n",
       "      <th>3</th>\n",
       "      <td>2.453369e+06</td>\n",
       "      <td>87.787864</td>\n",
       "      <td>0.891982</td>\n",
       "      <td>b'j'</td>\n",
       "    </tr>\n",
       "    <tr>\n",
       "      <th>4</th>\n",
       "      <td>2.453370e+06</td>\n",
       "      <td>100.691525</td>\n",
       "      <td>1.104762</td>\n",
       "      <td>b'j'</td>\n",
       "    </tr>\n",
       "  </tbody>\n",
       "</table>\n",
       "</div>"
      ],
      "text/plain": [
       "             jd       mnvel    errvel   tel\n",
       "0  2.453239e+06  113.349126  0.935919  b'j'\n",
       "1  2.453240e+06  106.006788  0.976077  b'j'\n",
       "2  2.453241e+06  113.020956  0.955703  b'j'\n",
       "3  2.453369e+06   87.787864  0.891982  b'j'\n",
       "4  2.453370e+06  100.691525  1.104762  b'j'"
      ]
     },
     "execution_count": 3,
     "metadata": {},
     "output_type": "execute_result"
    }
   ],
   "source": [
    "data.head()"
   ]
  },
  {
   "cell_type": "code",
   "execution_count": null,
   "metadata": {},
   "outputs": [],
   "source": [
    "# Iteratively removes one data point for each run\n",
    "while len(data) > 0:\n",
    "    searcher = search.Search(data, starname='128311-{}'.format(len(data)), min_per=3,\n",
    "                         workers=8, mcmc=False, verbose=True)\n",
    "    searcher.run_search()\n",
    "    drop_points = np.random.randint(0, len(data), len(data)/2)\n",
    "    data.drop([drop_points], inplace = True)\n",
    "    data.reset_index(drop = True, inplace = True)"
   ]
  },
  {
   "cell_type": "code",
   "execution_count": null,
   "metadata": {},
   "outputs": [],
   "source": [
    "# Exponential decay\n",
    "while len(data) > 0:\n",
    "    searcher = search.Search(data, starname='128311-{}'.format(len(data)), min_per=3,\n",
    "                         workers=8, mcmc=False, verbose=True)\n",
    "    searcher.run_search()\n",
    "    for i in range(len(data)//2):\n",
    "        drop_point = np.random.randint(len(data))\n",
    "        data.drop([drop_point], inplace = True)\n",
    "        data.reset_index(drop = True, inplace = True)"
   ]
  },
  {
   "cell_type": "code",
   "execution_count": null,
   "metadata": {},
   "outputs": [],
   "source": []
  }
 ],
 "metadata": {
  "kernelspec": {
   "display_name": "Python 3",
   "language": "python",
   "name": "python3"
  },
  "language_info": {
   "codemirror_mode": {
    "name": "ipython",
    "version": 3
   },
   "file_extension": ".py",
   "mimetype": "text/x-python",
   "name": "python",
   "nbconvert_exporter": "python",
   "pygments_lexer": "ipython3",
   "version": "3.7.3"
  }
 },
 "nbformat": 4,
 "nbformat_minor": 2
}
