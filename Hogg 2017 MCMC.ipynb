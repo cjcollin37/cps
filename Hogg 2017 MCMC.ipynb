{
 "cells": [
  {
   "cell_type": "markdown",
   "metadata": {},
   "source": [
    "# Hogg 2017 Data analysis recipes: MCMC\n",
    "\n",
    "## Problem 1\n",
    "\n",
    "#### Mean\n",
    "- Also known as \"expected value,\" it is the weighted average of the possible values, using their probabilities as weights.\n",
    "\n",
    "#### Variance\n",
    "- Variance is the expectation (arithmetic mean) of the squared standard deviation of a random variable from its mean. Think of it generally as the spread of the data from the mean and simplistically as the square of the S.D. It is also the covariance of the random variable with itself, represented as sigma squared (as in the matrix in the other Hogg tutorial, 2010).\n",
    "\n",
    "#### Skewness\n",
    "- A measure of the extent to which a pmf (probability mass function - for discrete variables) or pdf (probability density function - for continuous variables) leans to one side of the mean. Think of it as a measure of the asymmetry about the mean. It can be positive, negative, zero, or undefined.\n",
    "\n",
    "#### Kurtosis\n",
    "- A measure of the fatness of the tails of a pmf or pdf. Think of tall, narrow distribution w/ small tails as positive kurtosis (leptokurtic), and a wider, tophat distribution as negative kurtosis (platykurtic).\n",
    "\n",
    "\n",
    "\n",
    "- The mean is the first standardized moment of a distribution, variance is the second, skewness the third, and kurtosis the fourth.\n",
    "\n",
    "#### Uniform Distribution\n",
    "- Mean: $E(X)={\\frac{1}{2}}(a+b).$ = 0.5\n",
    "- Variance: $V(X)={\\frac {1}{12}}(b-a)^{2}$ = 0.083\n",
    "- Skewness: zero\n",
    "- Kurtosis: ${\\frac{9}{5}}$"
   ]
  },
  {
   "cell_type": "code",
   "execution_count": 1,
   "metadata": {},
   "outputs": [],
   "source": [
    "import numpy as np\n",
    "import matplotlib.pyplot as plt\n",
    "import pandas as pd\n",
    "import math"
   ]
  },
  {
   "cell_type": "code",
   "execution_count": 27,
   "metadata": {},
   "outputs": [],
   "source": [
    "# Analytically\n",
    "analytic_mean = 0.5\n",
    "analytic_variance = 1/12\n",
    "analytic_skewness = 0\n",
    "analysitc_kurtosis = 1.8"
   ]
  },
  {
   "cell_type": "code",
   "execution_count": 3,
   "metadata": {},
   "outputs": [],
   "source": [
    "K = 1000\n",
    "sample = np.random.uniform(size = K)"
   ]
  },
  {
   "cell_type": "code",
   "execution_count": 6,
   "metadata": {},
   "outputs": [
    {
     "data": {
      "text/plain": [
       "0.48975889280447454"
      ]
     },
     "execution_count": 6,
     "metadata": {},
     "output_type": "execute_result"
    }
   ],
   "source": [
    "# Mean\n",
    "mean = sum(sample)/K\n",
    "mean"
   ]
  },
  {
   "cell_type": "code",
   "execution_count": 24,
   "metadata": {},
   "outputs": [
    {
     "data": {
      "text/plain": [
       "0.07989714136739358"
      ]
     },
     "execution_count": 24,
     "metadata": {},
     "output_type": "execute_result"
    }
   ],
   "source": [
    "# Variance\n",
    "\n",
    "variance = 0\n",
    "\n",
    "for i in sample:\n",
    "    var = ((i - mean)**2)\n",
    "    variance = variance + var\n",
    "    \n",
    "variance = variance/(K-1)\n",
    "variance"
   ]
  },
  {
   "cell_type": "code",
   "execution_count": 25,
   "metadata": {},
   "outputs": [
    {
     "data": {
      "text/plain": [
       "0.07089217677082142"
      ]
     },
     "execution_count": 25,
     "metadata": {},
     "output_type": "execute_result"
    }
   ],
   "source": [
    "# Skewness\n",
    "\n",
    "sd = math.sqrt(variance)\n",
    "skewness = 0\n",
    "\n",
    "for i in sample:\n",
    "    skew = (((i - mean)/sd)**3)\n",
    "    skewness = skewness + skew\n",
    "    \n",
    "skewness = skewness/(K-1)\n",
    "skewness"
   ]
  },
  {
   "cell_type": "code",
   "execution_count": 26,
   "metadata": {},
   "outputs": [
    {
     "data": {
      "text/plain": [
       "1.8531932568072045"
      ]
     },
     "execution_count": 26,
     "metadata": {},
     "output_type": "execute_result"
    }
   ],
   "source": [
    "# Kurtosis\n",
    "\n",
    "kurtosis = 0\n",
    "\n",
    "for i in sample:\n",
    "    kurt = (((i - mean)/sd)**4)\n",
    "    kurtosis = kurtosis + kurt\n",
    "\n",
    "    \n",
    "kurtosis = kurtosis/(K-1)\n",
    "kurtosis"
   ]
  },
  {
   "cell_type": "code",
   "execution_count": 97,
   "metadata": {},
   "outputs": [],
   "source": [
    "def uniform_distribution(n):\n",
    "    \n",
    "    K = 4**n\n",
    "    sample = np.random.uniform(size = K)\n",
    "    ns = np.empty(10)\n",
    "    means = np.empty(10)\n",
    "    variances = np.empty(10)\n",
    "    skewnesses = np.empty(10)\n",
    "    kurtosises = np.empty(10)\n",
    "    inverse_K = np.empty(10)\n",
    "    \n",
    "    # Mean\n",
    "    mean = sum(sample)/K\n",
    "    means[n-1] = mean\n",
    "    \n",
    "    # Variance\n",
    "    variance = 0\n",
    "    for i in sample:\n",
    "            var = ((i - mean)**2)\n",
    "            variance = variance + var\n",
    "    variance = variance/(K-1)\n",
    "    variances[n-1] = variance\n",
    "    \n",
    "    # Skewness\n",
    "    sd = math.sqrt(variance)\n",
    "    skewness = 0\n",
    "    for i in sample:\n",
    "            skew = (((i - mean)/sd)**3)\n",
    "            skewness = skewness + skew\n",
    "    skewness = skewness/(K-1)\n",
    "    skewnesses[n-1] = skewness\n",
    "    \n",
    "    # Kurtosis\n",
    "    kurtosis = 0\n",
    "    for i in sample:\n",
    "            kurt = (((i - mean)/sd)**4)\n",
    "            kurtosis = kurtosis + kurt\n",
    "    kurtosis = kurtosis/(K-1)\n",
    "    kurtosises[n-1] = kurtosis\n",
    "    \n",
    "    ns[n-1] = n\n",
    "    inverse_K[n-1] = 1/K\n",
    "    return (ns, means, variances, skewnesses, kurtosises, inverse_K)\n",
    "\n",
    "def results_table(ns, means, variances, skewnesses, kurtosises, inverse_K):\n",
    "    results = pd.DataFrame(columns = [\"n\", \"mean\", \"variance\", \"skewness\", \"kurtosis\", \"1/K\"])\n",
    "    results[\"n\"] = ns\n",
    "    results[\"mean\"] = means\n",
    "    results[\"variance\"] = variances\n",
    "    results[\"skewness\"] = skewnesses\n",
    "    results[\"kurtosis\"] = kurtosises\n",
    "    results[\"1/K\"] = inverse_K\n",
    "    return results"
   ]
  },
  {
   "cell_type": "code",
   "execution_count": 98,
   "metadata": {},
   "outputs": [],
   "source": [
    "uniform_distribution(1)\n",
    "uniform_distribution(2)\n",
    "uniform_distribution(3)\n",
    "uniform_distribution(4)\n",
    "uniform_distribution(5)\n",
    "uniform_distribution(6)\n",
    "uniform_distribution(7)\n",
    "uniform_distribution(8)\n",
    "uniform_distribution(9)\n",
    "(ns, means, variances, skewnesses, kurtosises, inverse_K) = uniform_distribution(10)"
   ]
  },
  {
   "cell_type": "code",
   "execution_count": 99,
   "metadata": {},
   "outputs": [],
   "source": [
    "results = results_table(ns, means, variances, skewnesses, kurtosises, inverse_K)"
   ]
  },
  {
   "cell_type": "code",
   "execution_count": 126,
   "metadata": {},
   "outputs": [
    {
     "data": {
      "image/png": "[encoded data removed]",
      "text/plain": [
       "<Figure size 720x432 with 1 Axes>"
      ]
     },
     "metadata": {
      "needs_background": "light"
     },
     "output_type": "display_data"
    }
   ],
   "source": [
    "results.plot(kind='scatter', x='1/K', y='mean', figsize=(10, 6), color='darkblue')\n",
    "\n",
    "plt.title('Mean vs 1/K')\n",
    "plt.xlabel('1/K')\n",
    "plt.ylabel('Mean')\n",
    "plt.plot([0, 0.25], [0.5, 0.5])\n",
    "\n",
    "mean_plot = plt.show()"
   ]
  },
  {
   "cell_type": "code",
   "execution_count": 122,
   "metadata": {},
   "outputs": [
    {
     "data": {
      "image/png": "[encoded data removed]",
      "text/plain": [
       "<Figure size 720x432 with 1 Axes>"
      ]
     },
     "metadata": {
      "needs_background": "light"
     },
     "output_type": "display_data"
    }
   ],
   "source": [
    "results.plot(kind='scatter', x='1/K', y='variance', figsize=(10, 6), color='darkblue')\n",
    "\n",
    "plt.title('Variance vs 1/K')\n",
    "plt.xlabel('1/K')\n",
    "plt.ylabel('Variance')\n",
    "plt.plot([0,0.25], [0.083, 0.083])\n",
    "\n",
    "plt.show()"
   ]
  },
  {
   "cell_type": "code",
   "execution_count": 124,
   "metadata": {},
   "outputs": [
    {
     "data": {
      "image/png": "[encoded data removed]",
      "text/plain": [
       "<Figure size 720x432 with 1 Axes>"
      ]
     },
     "metadata": {
      "needs_background": "light"
     },
     "output_type": "display_data"
    }
   ],
   "source": [
    "results.plot(kind='scatter', x='1/K', y='skewness', figsize=(10, 6), color='darkblue')\n",
    "\n",
    "plt.title('Skewness vs 1/K')\n",
    "plt.xlabel('1/K')\n",
    "plt.ylabel('Skewness')\n",
    "plt.plot([0,0.25], [0, 0])\n",
    "\n",
    "plt.show()"
   ]
  },
  {
   "cell_type": "code",
   "execution_count": 123,
   "metadata": {},
   "outputs": [
    {
     "data": {
      "image/png": "[encoded data removed]",
      "text/plain": [
       "<Figure size 720x432 with 1 Axes>"
      ]
     },
     "metadata": {
      "needs_background": "light"
     },
     "output_type": "display_data"
    }
   ],
   "source": [
    "results.plot(kind='scatter', x='1/K', y='kurtosis', figsize=(10, 6), color='darkblue')\n",
    "\n",
    "plt.title('Kurtosis vs 1/K')\n",
    "plt.xlabel('1/K')\n",
    "plt.ylabel('Kurtosis')\n",
    "plt.plot([0,0.25], [1.8, 1.8])\n",
    "\n",
    "plt.show()"
   ]
  },
  {
   "cell_type": "markdown",
   "metadata": {},
   "source": [
    "### Conclusion to problem 1:\n",
    "#### As you sample more points from a uniform distribution, the standardized moments of mean, variance, skewness, and kurtosis approach the analytic values."
   ]
  },
  {
   "cell_type": "markdown",
   "metadata": {},
   "source": [
    "## Problem 2\n",
    "\n",
    "#### Create a Metropolis-Hastings MCMC algorithm. Sample from a Gaussian of mean 2 and variance 2. Give the sampler a proposal distribution q(x' | x) a Gaussian pdf for x' with mean x and variance 1. Initialize the sampler with x = 0 and run the sampler for more than 10^4 steps. Plot the results as a histogram, with the true density over-plotted sensibly. \n",
    "\n",
    "##### Gaussian function:\n",
    "${\\displaystyle f(x)=ae^{-{\\frac {(x-b)^{2}}{2c^{2}}}}}$"
   ]
  },
  {
   "cell_type": "code",
   "execution_count": 2,
   "metadata": {},
   "outputs": [],
   "source": [
    "# Define the Gaussian pdf to be sampled\n",
    "\n",
    "class MCMC_Gaussian(object):\n",
    "    def __init__(self, nsamples=10**4, x0=0):\n",
    "        self.chain = []\n",
    "        self.nsamples = nsamples\n",
    "        self.x = x0\n",
    "        self.chain.append(self.x)\n",
    "        \n",
    "# A random number between 0 and 1 in a normal distribution         \n",
    "    def r_value(self):\n",
    "        self.r = np.random.normal(loc = 0.5, scale = 0.1)\n",
    "        self.lnr = math.log(self.r)\n",
    "        return self.lnr\n",
    "        \n",
    "# Randomly sample from proposal dist. - Gaussian centered on x - get y-value, take natural log\n",
    "    def lnproposal(self):\n",
    "        mu = self.x\n",
    "        sigma = 1\n",
    "        def f(x):\n",
    "            return (1/(np.sqrt(2) * np.sqrt(2 * np.pi)) * np.exp((-((x - 2)/np.sqrt(2))**2)/2))\n",
    "        self.x_prime = np.random.normal(loc = self.x, scale = 1)\n",
    "        self.y_prime = f(self.x_prime)\n",
    "        self.proposal = np.log(self.y_prime)\n",
    "        return self.proposal\n",
    "        \n",
    "# Compute y-value for current location in target distribution, take natural log (log of probability)\n",
    "    def lncurrent(self, mu = 2, sigma = np.sqrt(2)):\n",
    "        def f(x):\n",
    "            return (1/(sigma * np.sqrt(2 * np.pi)) * np.exp((-((x - mu)/sigma)**2)/2))\n",
    "        self.y = f(self.x)\n",
    "        self.current = np.log(self.y)\n",
    "        return self.current\n",
    "        \n",
    "        #sample = np.random.normal(loc = mu, scale = math.sqrt(sig), size = 1)\n",
    "        #self.post = np.log(sample)\n",
    "        \n",
    "# Check: if y_prime/y_current > r, append proposed x_prime, set next x to x_prime; else, append same x to chain\n",
    "    def take_step(self):\n",
    "        lnr = self.r_value()\n",
    "        proposal = self.lnproposal()\n",
    "        current = self.lncurrent()\n",
    "        if (proposal - current) > lnr:\n",
    "            self.chain.append(self.x_prime)\n",
    "            self.x = self.x_prime\n",
    "        else:\n",
    "            self.chain.append(self.chain[-1])\n",
    "        \n",
    "    def run_mcmc(self):\n",
    "        for i in np.arange(self.nsamples):\n",
    "            self.take_step()\n",
    "        return self.chain"
   ]
  },
  {
   "cell_type": "code",
   "execution_count": 5,
   "metadata": {},
   "outputs": [],
   "source": [
    "test = MCMC_Gaussian()\n",
    "chain = test.run_mcmc()"
   ]
  },
  {
   "cell_type": "code",
   "execution_count": 14,
   "metadata": {},
   "outputs": [
    {
     "data": {
      "image/png": "[encoded data removed]",
      "text/plain": [
       "<Figure size 432x288 with 1 Axes>"
      ]
     },
     "metadata": {
      "needs_background": "light"
     },
     "output_type": "display_data"
    }
   ],
   "source": [
    "sigma = math.sqrt(2)\n",
    "mu = 2\n",
    "#s = np.random.normal(mu, sigma, 1000)\n",
    "\n",
    "plt.hist(Lee.chain, 50, density=True)\n",
    "#plt.plot(bins, 1/(sigma * np.sqrt(2 * np.pi)) * np.exp( - (bins - mu)**2 / (2 * sigma**2) ), linewidth=2, color='r')\n",
    "plt.show()"
   ]
  },
  {
   "cell_type": "code",
   "execution_count": null,
   "metadata": {},
   "outputs": [],
   "source": [
    "1/(sigma * np.sqrt(2 * np.pi)) * np.exp( - (x - mu)**2 / (2 * sigma**2) )"
   ]
  },
  {
   "cell_type": "code",
   "execution_count": 7,
   "metadata": {},
   "outputs": [],
   "source": [
    "class MCMC_Gaussian_Lee(object):\n",
    "    def __init__(self, nsamples=10**4, x0=0):\n",
    "        self.chain = []\n",
    "        self.nsamples = nsamples\n",
    "        self.x = x0\n",
    "        self.chain.append(self.x)\n",
    "    def proposal_gauss(self):\n",
    "        return np.random.normal(self.x)\n",
    "    def lnprior(self, x):\n",
    "        return 0\n",
    "    def lnpost(self, x, mu=2, sig=2):\n",
    "        return self.lnprior(x) - 0.5*(np.log(2*np.pi*sig**2) + ((x - mu)**2)/sig**2)\n",
    "    def take_step(self):\n",
    "        proposal = self.proposal_gauss()\n",
    "        r = np.random.uniform()\n",
    "        if self.lnpost(proposal) - self.lnpost(self.x) > np.log(r):\n",
    "            self.x = proposal\n",
    "        self.chain.append(self.x)\n",
    "    def run_mcmc(self):\n",
    "        for n in np.arange(self.nsamples):\n",
    "            self.take_step()\n",
    "\n"
   ]
  },
  {
   "cell_type": "code",
   "execution_count": 11,
   "metadata": {},
   "outputs": [],
   "source": [
    "Lee = MCMC_Gaussian_Lee()\n",
    "Lee.run_mcmc()"
   ]
  },
  {
   "cell_type": "code",
   "execution_count": null,
   "metadata": {},
   "outputs": [],
   "source": []
  }
 ],
 "metadata": {
  "kernelspec": {
   "display_name": "Python 3",
   "language": "python",
   "name": "python3"
  },
  "language_info": {
   "codemirror_mode": {
    "name": "ipython",
    "version": 3
   },
   "file_extension": ".py",
   "mimetype": "text/x-python",
   "name": "python",
   "nbconvert_exporter": "python",
   "pygments_lexer": "ipython3",
   "version": "3.7.3"
  }
 },
 "nbformat": 4,
 "nbformat_minor": 2
}
